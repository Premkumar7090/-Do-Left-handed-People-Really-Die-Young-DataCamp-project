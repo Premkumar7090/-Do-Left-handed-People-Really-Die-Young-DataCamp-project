{
  "nbformat": 4,
  "nbformat_minor": 0,
  "metadata": {
    "kernelspec": {
      "name": "python3",
      "display_name": "Python 3",
      "language": "python"
    },
    "language_info": {
      "name": "python",
      "version": "3.5.2",
      "codemirror_mode": {
        "name": "ipython",
        "version": 3
      },
      "nbconvert_exporter": "python",
      "file_extension": ".py",
      "pygments_lexer": "ipython3",
      "mimetype": "text/x-python"
    },
    "colab": {
      "name": "left-handed-people.ipynb",
      "provenance": [],
      "collapsed_sections": []
    }
  },
  "cells": [
    {
      "cell_type": "markdown",
      "metadata": {
        "editable": false,
        "deletable": false,
        "tags": [
          "context"
        ],
        "dc": {
          "key": "4"
        },
        "run_control": {
          "frozen": true
        },
        "id": "wvyCjvyNEdqY"
      },
      "source": [
        "## 1. Where are the old left-handed people?\n",
        "<p><img src=\"https://s3.amazonaws.com/assets.datacamp.com/production/project_479/img/Obama_signs_health_care-20100323.jpg\" alt=\"Barack Obama signs the Patient Protection and Affordable Care Act at the White House, March 23, 2010\"></p>\n",
        "<p>Barack Obama is left-handed. So are Bill Gates and Oprah Winfrey; so were Babe Ruth and Marie Curie. A <a href=\"https://www.nejm.org/doi/full/10.1056/NEJM199104043241418\">1991 study</a> reported that left-handed people die on average nine years earlier than right-handed people. Nine years! Could this really be true? </p>\n",
        "<p>In this notebook, we will explore this phenomenon using age distribution data to see if we can reproduce a difference in average age at death purely from the changing rates of left-handedness over time, refuting the claim of early death for left-handers. This notebook uses <code>pandas</code> and Bayesian statistics to analyze the probability of being a certain age at death given that you are reported as left-handed or right-handed.</p>\n",
        "<p>A National Geographic survey in 1986 resulted in over a million responses that included age, sex, and hand preference for throwing and writing. Researchers Avery Gilbert and Charles Wysocki analyzed this data and noticed that rates of left-handedness were around 13% for people younger than 40 but decreased with age to about 5% by the age of 80. They concluded based on analysis of a subgroup of people who throw left-handed but write right-handed that this age-dependence was primarily due to changing social acceptability of left-handedness. This means that the rates aren't a factor of <em>age</em> specifically but rather of the <em>year you were born</em>, and if the same study was done today, we should expect a shifted version of the same distribution as a function of age. Ultimately, we'll see what effect this changing rate has on the apparent mean age of death of left-handed people, but let's start by plotting the rates of left-handedness as a function of age.</p>\n",
        "<p>This notebook uses two datasets: <a href=\"https://www.cdc.gov/nchs/data/statab/vs00199_table310.pdf\">death distribution data</a> for the United States from the year 1999 (source website <a href=\"https://www.cdc.gov/nchs/nvss/mortality_tables.htm\">here</a>) and rates of left-handedness digitized from a figure in this <a href=\"https://www.ncbi.nlm.nih.gov/pubmed/1528408\">1992 paper by Gilbert and Wysocki</a>. </p>"
      ]
    },
    {
      "cell_type": "code",
      "metadata": {
        "trusted": true,
        "tags": [
          "sample_code"
        ],
        "dc": {
          "key": "4"
        },
        "colab": {
          "base_uri": "https://localhost:8080/",
          "height": 300
        },
        "id": "sDL2nkcFEdqa",
        "outputId": "03ec37e1-31f9-4f0b-eb92-84561f6c36f7"
      },
      "source": [
        "# import libraries\n",
        "# ... YOUR CODE FOR TASK 1 ...\n",
        "import pandas as pd\n",
        "import matplotlib.pyplot as plt\n",
        "# load the data\n",
        "data_url_1 = \"https://gist.githubusercontent.com/mbonsma/8da0990b71ba9a09f7de395574e54df1/raw/aec88b30af87fad8d45da7e774223f91dad09e88/lh_data.csv\"\n",
        "lefthanded_data = pd.read_csv(data_url_1)\n",
        "\n",
        "# plot male and female left-handedness rates vs. age\n",
        "%matplotlib inline\n",
        "fig, ax = plt.subplots() # create figure and axis objects\n",
        "ax.plot('Age', 'Female', data = lefthanded_data, marker = 'o') # plot \"Female\" vs. \"Age\"\n",
        "ax.plot('Age', 'Male', data = lefthanded_data, marker = 'x') # plot \"Male\" vs. \"Age\"\n",
        "ax.legend() # add a legend\n",
        "ax.set_xlabel('Sex')\n",
        "ax.set_ylabel('Age')"
      ],
      "execution_count": 1,
      "outputs": [
        {
          "output_type": "execute_result",
          "data": {
            "text/plain": [
              "Text(0, 0.5, 'Age')"
            ]
          },
          "metadata": {
            "tags": []
          },
          "execution_count": 1
        },
        {
          "output_type": "display_data",
          "data": {
            "image/png": "[encoded data removed]",
            "text/plain": [
              "<Figure size 432x288 with 1 Axes>"
            ]
          },
          "metadata": {
            "tags": [],
            "needs_background": "light"
          }
        }
      ]
    },
    {
      "cell_type": "markdown",
      "metadata": {
        "editable": false,
        "deletable": false,
        "tags": [
          "context"
        ],
        "dc": {
          "key": "11"
        },
        "run_control": {
          "frozen": true
        },
        "id": "xWZLeMQPEdqc"
      },
      "source": [
        "## 2. Rates of left-handedness over time\n",
        "<p>Let's convert this data into a plot of the rates of left-handedness as a function of the year of birth, and average over male and female to get a single rate for both sexes. </p>\n",
        "<p>Since the study was done in 1986, the data after this conversion will be the percentage of people alive in 1986 who are left-handed as a function of the year they were born. </p>"
      ]
    },
    {
      "cell_type": "code",
      "metadata": {
        "trusted": true,
        "tags": [
          "sample_code"
        ],
        "dc": {
          "key": "11"
        },
        "colab": {
          "base_uri": "https://localhost:8080/",
          "height": 298
        },
        "id": "Q_E271hYEdqd",
        "outputId": "e064737e-3aaa-4bea-de7f-dc08fcf85bb9"
      },
      "source": [
        "# create a new column for birth year of each age\n",
        "# ... YOUR CODE FOR TASK 2 ...\n",
        "lefthanded_data['Birth_year'] = 1986 - lefthanded_data['Age']\n",
        "# create a new column for the average of male and female\n",
        "# ... YOUR CODE FOR TASK 2 ...\n",
        "lefthanded_data['Mean_lh'] = lefthanded_data[['Male', 'Female']].mean(axis=1)\n",
        "# create a plot of the 'Mean_lh' column vs. 'Birth_year'\n",
        "fig, ax = plt.subplots()\n",
        "ax.plot('Birth_year', 'Mean_lh', data = lefthanded_data) # plot 'Mean_lh' vs. 'Birth_year'\n",
        "ax.set_xlabel('Birth_year') # set the x label for the plot\n",
        "ax.set_ylabel('Mean_lh') # set the y label for the plot"
      ],
      "execution_count": 2,
      "outputs": [
        {
          "output_type": "execute_result",
          "data": {
            "text/plain": [
              "Text(0, 0.5, 'Mean_lh')"
            ]
          },
          "metadata": {
            "tags": []
          },
          "execution_count": 2
        },
        {
          "output_type": "display_data",
          "data": {
            "image/png": "[encoded data removed]",
            "text/plain": [
              "<Figure size 432x288 with 1 Axes>"
            ]
          },
          "metadata": {
            "tags": [],
            "needs_background": "light"
          }
        }
      ]
    },
    {
      "cell_type": "markdown",
      "metadata": {
        "editable": false,
        "deletable": false,
        "tags": [
          "context"
        ],
        "dc": {
          "key": "18"
        },
        "run_control": {
          "frozen": true
        },
        "id": "K-YI4YpbEdqd"
      },
      "source": [
        "## 3. Applying Bayes' rule\n",
        "<p>The probability of dying at a certain age given that you're left-handed is <strong>not</strong> equal to the probability of being left-handed given that you died at a certain age. This inequality is why we need <strong>Bayes' theorem</strong>, a statement about conditional probability which allows us to update our beliefs after seeing evidence. </p>\n",
        "<p>We want to calculate the probability of dying at age A given that you're left-handed. Let's write this in shorthand as P(A | LH). We also want the same quantity for right-handers: P(A | RH). </p>\n",
        "<p>Here's Bayes' theorem for the two events we care about: left-handedness (LH) and dying at age A.</p>\n",
        "<p>$$P(A | LH) = \\frac{P(LH|A) P(A)}{P(LH)}$$</p>\n",
        "<p>P(LH | A) is the probability that you are left-handed <em>given that</em> you died at age A. P(A) is the overall probability of dying at age A, and P(LH) is the overall probability of being left-handed. We will now calculate each of these three quantities, beginning with P(LH | A).</p>\n",
        "<p>To calculate P(LH | A) for ages that might fall outside the original data, we will need to extrapolate the data to earlier and later years. Since the rates flatten out in the early 1900s and late 1900s, we'll use a few points at each end and take the mean to extrapolate the rates on each end. The number of points used for this is arbitrary, but we'll pick 10 since the data looks flat-ish until about 1910. </p>"
      ]
    },
    {
      "cell_type": "code",
      "metadata": {
        "trusted": true,
        "collapsed": true,
        "tags": [
          "sample_code"
        ],
        "dc": {
          "key": "18"
        },
        "id": "-MxSJ5uZEdqe"
      },
      "source": [
        "# import library\n",
        "# ... YOUR CODE FOR TASK 3 ...\n",
        "import numpy as np\n",
        "# create a function for P(LH | A)\n",
        "def P_lh_given_A(ages_of_death, study_year = 1990):\n",
        "    \"\"\" P(Left-handed | ages of death), calculated based on the reported rates of left-handedness.\n",
        "    Inputs: numpy array of ages of death, study_year\n",
        "    Returns: probability of left-handedness given that subjects died in `study_year` at ages `ages_of_death` \"\"\"\n",
        "    \n",
        "    # Use the mean of the 10 last and 10 first points for left-handedness rates before and after the start \n",
        "    early_1900s_rate = lefthanded_data['Mean_lh'][-10:].mean() \n",
        "    late_1900s_rate = lefthanded_data['Mean_lh'][:10].mean()\n",
        "    middle_rates = lefthanded_data.loc[lefthanded_data['Birth_year'].isin(study_year - ages_of_death)]['Mean_lh']\n",
        "    youngest_age = study_year - 1986 + 10 # the youngest age is 10\n",
        "    oldest_age = study_year - 1986 + 86 # the oldest age is 86\n",
        "    \n",
        "    P_return = np.zeros(ages_of_death.shape) # create an empty array to store the results\n",
        "    # extract rate of left-handedness for people of ages 'ages_of_death'\n",
        "    P_return[ages_of_death > oldest_age] = early_1900s_rate / 100\n",
        "    P_return[ages_of_death < youngest_age] = late_1900s_rate / 100\n",
        "    P_return[np.logical_and((ages_of_death <= oldest_age), (ages_of_death >= youngest_age))] = middle_rates / 100\n",
        "    \n",
        "    return P_return"
      ],
      "execution_count": 3,
      "outputs": []
    },
    {
      "cell_type": "markdown",
      "metadata": {
        "editable": false,
        "deletable": false,
        "tags": [
          "context"
        ],
        "dc": {
          "key": "25"
        },
        "run_control": {
          "frozen": true
        },
        "id": "VfTQp7n_Edqf"
      },
      "source": [
        "## 4. When do people normally die?\n",
        "<p>To estimate the probability of living to an age A, we can use data that gives the number of people who died in a given year and how old they were to create a distribution of ages of death. If we normalize the numbers to the total number of people who died, we can think of this data as a probability distribution that gives the probability of dying at age A. The data we'll use for this is from the entire US for the year 1999 - the closest I could find for the time range we're interested in. </p>\n",
        "<p>In this block, we'll load in the death distribution data and plot it. The first column is the age, and the other columns are the number of people who died at that age. </p>"
      ]
    },
    {
      "cell_type": "code",
      "metadata": {
        "trusted": true,
        "tags": [
          "sample_code"
        ],
        "dc": {
          "key": "25"
        },
        "colab": {
          "base_uri": "https://localhost:8080/",
          "height": 297
        },
        "id": "NO2gEc0kEdqg",
        "outputId": "1715511f-81c4-4792-e3c1-6ce4cf290f72"
      },
      "source": [
        "# Death distribution data for the United States in 1999\n",
        "data_url_2 = \"https://gist.githubusercontent.com/mbonsma/2f4076aab6820ca1807f4e29f75f18ec/raw/62f3ec07514c7e31f5979beeca86f19991540796/cdc_vs00199_table310.tsv\"\n",
        "\n",
        "# load death distribution data\n",
        "# ... YOUR CODE FOR TASK 4 ...\n",
        "death_distribution_data = pd.read_csv(data_url_2, sep='\\t', skiprows=[1])\n",
        "# drop NaN values from the `Both Sexes` column\n",
        "# ... YOUR CODE FOR TASK 4 ...\n",
        "death_distribution_data = death_distribution_data.dropna(subset = ['Both Sexes'])\n",
        "# plot number of people who died as a function of age\n",
        "fig, ax = plt.subplots()\n",
        "ax.plot('Age', 'Both Sexes', data = death_distribution_data, marker='o') # plot 'Both Sexes' vs. 'Age'\n",
        "ax.set_xlabel('Age') \n",
        "ax.set_ylabel('Both Sexes')"
      ],
      "execution_count": 4,
      "outputs": [
        {
          "output_type": "execute_result",
          "data": {
            "text/plain": [
              "Text(0, 0.5, 'Both Sexes')"
            ]
          },
          "metadata": {
            "tags": []
          },
          "execution_count": 4
        },
        {
          "output_type": "display_data",
          "data": {
            "image/png": "[encoded data removed]",
            "text/plain": [
              "<Figure size 432x288 with 1 Axes>"
            ]
          },
          "metadata": {
            "tags": [],
            "needs_background": "light"
          }
        }
      ]
    },
    {
      "cell_type": "markdown",
      "metadata": {
        "editable": false,
        "deletable": false,
        "tags": [
          "context"
        ],
        "dc": {
          "key": "32"
        },
        "run_control": {
          "frozen": true
        },
        "id": "8lMGHXhzEdqg"
      },
      "source": [
        "## 5. The overall probability of left-handedness\n",
        "<p>In the previous code block we loaded data to give us P(A), and now we need P(LH). P(LH) is the probability that a person who died in our particular study year is left-handed, assuming we know nothing else about them. This is the average left-handedness in the population of deceased people, and we can calculate it by summing up all of the left-handedness probabilities for each age, weighted with the number of deceased people at each age, then divided by the total number of deceased people to get a probability. In equation form, this is what we're calculating, where N(A) is the number of people who died at age A (given by the dataframe <code>death_distribution_data</code>):</p>\n",
        "<p><img src=\"https://i.imgur.com/gBIWykY.png\" alt=\"equation\" width=\"220\"></p>\n",
        "<!--- $$P(LH) = \\frac{\\sum_{\\text{A}} P(LH | A) N(A)}{\\sum_{\\text{A}} N(A)}$$ -->"
      ]
    },
    {
      "cell_type": "code",
      "metadata": {
        "trusted": true,
        "tags": [
          "sample_code"
        ],
        "dc": {
          "key": "32"
        },
        "colab": {
          "base_uri": "https://localhost:8080/"
        },
        "id": "FVu4LVp6Edqh",
        "outputId": "40069c6a-1ab8-4be6-ce36-87af8491ded6"
      },
      "source": [
        "def P_lh(death_distribution_data, study_year = 1990): # sum over P_lh for each age group\n",
        "    \"\"\" Overall probability of being left-handed if you died in the study year\n",
        "    Input: dataframe of death distribution data, study year\n",
        "    Output: P(LH), a single floating point number \"\"\"\n",
        "    p_list = death_distribution_data['Both Sexes'] * P_lh_given_A(death_distribution_data['Age'], study_year) # multiply number of dead people by P_lh_given_A\n",
        "    p = np.sum(p_list) # calculate the sum of p_list\n",
        "    return p / np.sum(death_distribution_data['Both Sexes']) # normalize to total number of people (sum of death_distribution_data['Both Sexes'])\n",
        "\n",
        "print(P_lh(death_distribution_data))"
      ],
      "execution_count": 5,
      "outputs": [
        {
          "output_type": "stream",
          "text": [
            "0.07766387615350638\n"
          ],
          "name": "stdout"
        }
      ]
    },
    {
      "cell_type": "markdown",
      "metadata": {
        "editable": false,
        "deletable": false,
        "tags": [
          "context"
        ],
        "dc": {
          "key": "39"
        },
        "run_control": {
          "frozen": true
        },
        "id": "-qBDtNEjEdqh"
      },
      "source": [
        "## 6. Putting it all together: dying while left-handed (i)\n",
        "<p>Now we have the means of calculating all three quantities we need: P(A), P(LH), and P(LH | A). We can combine all three using Bayes' rule to get P(A | LH), the probability of being age A at death (in the study year) given that you're left-handed. To make this answer meaningful, though, we also want to compare it to P(A | RH), the probability of being age A at death given that you're right-handed. </p>\n",
        "<p>We're calculating the following quantity twice, once for left-handers and once for right-handers.</p>\n",
        "<p>$$P(A | LH) = \\frac{P(LH|A) P(A)}{P(LH)}$$</p>\n",
        "<p>First, for left-handers.</p>\n",
        "<!--Notice that I was careful not to call these \"probability of dying at age A\", since that's not actually what we're calculating: we use the exact same death distribution data for each. -->"
      ]
    },
    {
      "cell_type": "code",
      "metadata": {
        "trusted": true,
        "collapsed": true,
        "tags": [
          "sample_code"
        ],
        "dc": {
          "key": "39"
        },
        "id": "zdKBJnBEEdqi"
      },
      "source": [
        "def P_A_given_lh(ages_of_death, death_distribution_data, study_year = 1990):\n",
        "    \"\"\" The overall probability of being a particular `age_of_death` given that you're left-handed \"\"\"\n",
        "    P_A = death_distribution_data['Both Sexes'][ages_of_death] / np.sum(death_distribution_data['Both Sexes'])\n",
        "    P_left = P_lh(death_distribution_data, study_year) # use P_lh function to get probability of left-handedness overall\n",
        "    P_lh_A = P_lh_given_A(ages_of_death, study_year) # use P_lh_given_A to get probability of left-handedness for a certain age\n",
        "    return P_lh_A*P_A/P_left"
      ],
      "execution_count": 6,
      "outputs": []
    },
    {
      "cell_type": "markdown",
      "metadata": {
        "editable": false,
        "deletable": false,
        "tags": [
          "context"
        ],
        "dc": {
          "key": "46"
        },
        "run_control": {
          "frozen": true
        },
        "id": "5nnn5oibEdqi"
      },
      "source": [
        "## 7. Putting it all together: dying while left-handed (ii)\n",
        "<p>And now for right-handers.</p>"
      ]
    },
    {
      "cell_type": "code",
      "metadata": {
        "trusted": true,
        "collapsed": true,
        "tags": [
          "sample_code"
        ],
        "dc": {
          "key": "46"
        },
        "id": "lUXxNQhxEdqi"
      },
      "source": [
        "def P_A_given_rh(ages_of_death, death_distribution_data, study_year = 1990):\n",
        "    \"\"\" The overall probability of being a particular `age_of_death` given that you're right-handed \"\"\"\n",
        "    P_A = death_distribution_data['Both Sexes'][ages_of_death] / np.sum(death_distribution_data['Both Sexes'])\n",
        "    P_right = 1 - P_lh(death_distribution_data, study_year) # either you're left-handed or right-handed, so P_right = 1 - P_left\n",
        "    P_rh_A = 1 - P_lh_given_A(ages_of_death, study_year) # P_rh_A = 1 - P_lh_A \n",
        "    return P_rh_A*P_A/P_right"
      ],
      "execution_count": 7,
      "outputs": []
    },
    {
      "cell_type": "markdown",
      "metadata": {
        "editable": false,
        "deletable": false,
        "tags": [
          "context"
        ],
        "dc": {
          "key": "53"
        },
        "run_control": {
          "frozen": true
        },
        "id": "u7ECz7DtEdqj"
      },
      "source": [
        "## 8. Plotting the distributions of conditional probabilities\n",
        "<p>Now that we have functions to calculate the probability of being age A at death given that you're left-handed or right-handed, let's plot these probabilities for a range of ages of death from 6 to 120. </p>\n",
        "<p>Notice that the left-handed distribution has a bump below age 70: of the pool of deceased people, left-handed people are more likely to be younger. </p>"
      ]
    },
    {
      "cell_type": "code",
      "metadata": {
        "trusted": true,
        "tags": [
          "sample_code"
        ],
        "dc": {
          "key": "53"
        },
        "colab": {
          "base_uri": "https://localhost:8080/",
          "height": 297
        },
        "id": "gF_t0RTnEdqj",
        "outputId": "18097e87-758e-4186-8eb3-f440b6ba4dd7"
      },
      "source": [
        "ages = np.arange(6, 115, 1) # make a list of ages of death to plot\n",
        "\n",
        "# calculate the probability of being left- or right-handed for each \n",
        "left_handed_probability = P_A_given_lh(ages, death_distribution_data)\n",
        "right_handed_probability = P_A_given_rh(ages, death_distribution_data)\n",
        "\n",
        "# create a plot of the two probabilities vs. age\n",
        "fig, ax = plt.subplots() # create figure and axis objects\n",
        "ax.plot(ages, left_handed_probability, label = \"Left-handed\")\n",
        "ax.plot(ages, right_handed_probability, label = 'Right-handed')\n",
        "ax.legend() # add a legend\n",
        "ax.set_xlabel(\"Age at death\")\n",
        "ax.set_ylabel(r\"Probability of being age A at death\")"
      ],
      "execution_count": 8,
      "outputs": [
        {
          "output_type": "execute_result",
          "data": {
            "text/plain": [
              "Text(0, 0.5, 'Probability of being age A at death')"
            ]
          },
          "metadata": {
            "tags": []
          },
          "execution_count": 8
        },
        {
          "output_type": "display_data",
          "data": {
            "image/png": "[encoded data removed]",
            "text/plain": [
              "<Figure size 432x288 with 1 Axes>"
            ]
          },
          "metadata": {
            "tags": [],
            "needs_background": "light"
          }
        }
      ]
    },
    {
      "cell_type": "markdown",
      "metadata": {
        "editable": false,
        "deletable": false,
        "tags": [
          "context"
        ],
        "dc": {
          "key": "60"
        },
        "run_control": {
          "frozen": true
        },
        "id": "xnMO194REdqj"
      },
      "source": [
        "## 9. Moment of truth: age of left and right-handers at death\n",
        "<p>Finally, let's compare our results with the original study that found that left-handed people were nine years younger at death on average. We can do this by calculating the mean of these probability distributions in the same way we calculated P(LH) earlier, weighting the probability distribution by age and summing over the result.</p>\n",
        "<p>$$\\text{Average age of left-handed people at death} = \\sum_A A P(A | LH)$$</p>\n",
        "<p>$$\\text{Average age of right-handed people at death} = \\sum_A A P(A | RH)$$</p>"
      ]
    },
    {
      "cell_type": "code",
      "metadata": {
        "trusted": true,
        "tags": [
          "sample_code"
        ],
        "dc": {
          "key": "60"
        },
        "colab": {
          "base_uri": "https://localhost:8080/"
        },
        "id": "cR4qvxeAEdqk",
        "outputId": "c41d1327-e5c7-4503-a927-a46e37e974b4"
      },
      "source": [
        "# calculate average ages for left-handed and right-handed groups\n",
        "# use np.array so that two arrays can be multiplied\n",
        "average_lh_age =  np.nansum(ages*np.array(left_handed_probability))\n",
        "average_rh_age =  np.nansum(ages*np.array(right_handed_probability))\n",
        "\n",
        "# print the average ages for each group\n",
        "# ... YOUR CODE FOR TASK 9 ...\n",
        "print(\"Average age of lefthanded\" + str(average_lh_age))\n",
        "print(\"Average age of righthanded\" + str(average_rh_age))\n",
        "\n",
        "# print the difference between the average ages\n",
        "print(\"The difference in average ages is \" + str(round(average_rh_age - average_lh_age, 1)) + \" years.\")"
      ],
      "execution_count": 9,
      "outputs": [
        {
          "output_type": "stream",
          "text": [
            "Average age of lefthanded67.24503662801027\n",
            "Average age of righthanded72.79171936526477\n",
            "The difference in average ages is 5.5 years.\n"
          ],
          "name": "stdout"
        }
      ]
    },
    {
      "cell_type": "markdown",
      "metadata": {
        "editable": false,
        "deletable": false,
        "tags": [
          "context"
        ],
        "dc": {
          "key": "67"
        },
        "run_control": {
          "frozen": true
        },
        "id": "lqtkMUcCEdqk"
      },
      "source": [
        "## 10. Final comments\n",
        "<p>We got a pretty big age gap between left-handed and right-handed people purely as a result of the changing rates of left-handedness in the population, which is good news for left-handers: you probably won't die young because of your sinisterness. The reported rates of left-handedness have increased from just 3% in the early 1900s to about 11% today, which means that older people are much more likely to be reported as right-handed than left-handed, and so looking at a sample of recently deceased people will have more old right-handers.</p>\n",
        "<p>Our number is still less than the 9-year gap measured in the study. It's possible that some of the approximations we made are the cause: </p>\n",
        "<ol>\n",
        "<li>We used death distribution data from almost ten years after the study (1999 instead of 1991), and we used death data from the entire United States instead of California alone (which was the original study). </li>\n",
        "<li>We extrapolated the left-handedness survey results to older and younger age groups, but it's possible our extrapolation wasn't close enough to the true rates for those ages. </li>\n",
        "</ol>\n",
        "<p>One thing we could do next is figure out how much variability we would expect to encounter in the age difference purely because of random sampling: if you take a smaller sample of recently deceased people and assign handedness with the probabilities of the survey, what does that distribution look like? How often would we encounter an age gap of nine years using the same data and assumptions? We won't do that here, but it's possible with this data and the tools of random sampling. </p>\n",
        "<!-- I did do this if we want to add more tasks - it would probably take three more blocks.-->\n",
        "<p>To finish off, let's calculate the age gap we'd expect if we did the study in 2018 instead of in 1990. The gap turns out to be much smaller since rates of left-handedness haven't increased for people born after about 1960. Both the National Geographic study and the 1990 study happened at a unique time - the rates of left-handedness had been changing across the lifetimes of most people alive, and the difference in handedness between old and young was at its most striking. </p>"
      ]
    },
    {
      "cell_type": "code",
      "metadata": {
        "trusted": true,
        "tags": [
          "sample_code"
        ],
        "dc": {
          "key": "67"
        },
        "colab": {
          "base_uri": "https://localhost:8080/"
        },
        "id": "ml3R4I0nEdqk",
        "outputId": "33da2907-189b-4355-dfaa-a5a8efb69a4f"
      },
      "source": [
        "# Calculate the probability of being left- or right-handed for all ages\n",
        "left_handed_probability_2018 = P_A_given_lh(ages, death_distribution_data, 2018)\n",
        "right_handed_probability_2018 = P_A_given_rh(ages, death_distribution_data, 2018)\n",
        "\n",
        "# calculate average ages for left-handed and right-handed groups\n",
        "average_lh_age_2018 = np.nansum(ages*np.array(left_handed_probability_2018))\n",
        "average_rh_age_2018 = np.nansum(ages*np.array(right_handed_probability_2018))\n",
        "\n",
        "print(\"The difference in average ages is \" + \n",
        "      str(round(average_rh_age_2018 - average_lh_age_2018, 1)) + \" years.\")"
      ],
      "execution_count": 10,
      "outputs": [
        {
          "output_type": "stream",
          "text": [
            "The difference in average ages is 2.3 years.\n"
          ],
          "name": "stdout"
        }
      ]
    }
  ]
}